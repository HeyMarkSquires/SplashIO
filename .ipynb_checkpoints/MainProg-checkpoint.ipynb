{
 "cells": [
  {
   "cell_type": "code",
   "execution_count": 1,
   "metadata": {},
   "outputs": [
    {
     "name": "stderr",
     "output_type": "stream",
     "text": [
      "Using TensorFlow backend.\n"
     ]
    }
   ],
   "source": [
    "from __future__ import absolute_import, division, print_function, unicode_literals\n",
    "import serial\n",
    "from time import sleep\n",
    "import csv\n",
    "import pandas as pd\n",
    "import functools\n",
    "from sklearn import preprocessing\n",
    "from sklearn.model_selection import train_test_split\n",
    "from keras.models import Sequential\n",
    "from keras.layers import Dense\n",
    "import matplotlib.pyplot as plt\n",
    "import numpy as np\n",
    "import pickle"
   ]
  },
  {
   "cell_type": "code",
   "execution_count": 8,
   "metadata": {},
   "outputs": [
    {
     "name": "stdout",
     "output_type": "stream",
     "text": [
      "[[8.14 8.23 8.25 ... 8.33 8.33 8.38]\n",
      " [8.04 8.23 8.25 ... 8.33 8.35 8.28]\n",
      " [8.04 8.23 8.25 ... 8.33 8.25 8.28]\n",
      " ...\n",
      " [8.16 7.96 7.96 ... 7.85 7.87 6.77]\n",
      " [8.06 7.85 7.97 ... 7.85 7.87 6.77]\n",
      " [8.06 7.85 7.85 ... 7.96 7.97 6.87]]\n",
      "[[5.]\n",
      " [5.]\n",
      " [5.]\n",
      " ...\n",
      " [5.]\n",
      " [5.]\n",
      " [5.]]\n",
      "Epoch 1/5\n"
     ]
    },
    {
     "ename": "InvalidArgumentError",
     "evalue": "Received a label value of 5 which is outside the valid range of [0, 1).  Label values: 5 5 5 5 5 5 5 5 5 5\n\t [[{{node loss_5/dense_24_loss/sparse_categorical_crossentropy/SparseSoftmaxCrossEntropyWithLogits/SparseSoftmaxCrossEntropyWithLogits}}]]",
     "output_type": "error",
     "traceback": [
      "\u001b[1;31m---------------------------------------------------------------------------\u001b[0m",
      "\u001b[1;31mInvalidArgumentError\u001b[0m                      Traceback (most recent call last)",
      "\u001b[1;32m<ipython-input-8-397d9a3e5d85>\u001b[0m in \u001b[0;36m<module>\u001b[1;34m\u001b[0m\n\u001b[0;32m     30\u001b[0m \u001b[0mmodel\u001b[0m\u001b[1;33m.\u001b[0m\u001b[0madd\u001b[0m\u001b[1;33m(\u001b[0m\u001b[0mDense\u001b[0m\u001b[1;33m(\u001b[0m\u001b[1;36m1\u001b[0m\u001b[1;33m,\u001b[0m \u001b[0mactivation\u001b[0m\u001b[1;33m=\u001b[0m\u001b[1;34m\"softmax\"\u001b[0m\u001b[1;33m)\u001b[0m\u001b[1;33m)\u001b[0m\u001b[1;33m\u001b[0m\u001b[1;33m\u001b[0m\u001b[0m\n\u001b[0;32m     31\u001b[0m \u001b[0mmodel\u001b[0m\u001b[1;33m.\u001b[0m\u001b[0mcompile\u001b[0m\u001b[1;33m(\u001b[0m\u001b[0moptimizer\u001b[0m\u001b[1;33m=\u001b[0m\u001b[1;34m'sgd'\u001b[0m\u001b[1;33m,\u001b[0m \u001b[0mloss\u001b[0m\u001b[1;33m=\u001b[0m\u001b[1;34m'sparse_categorical_crossentropy'\u001b[0m\u001b[1;33m,\u001b[0m \u001b[0mmetrics\u001b[0m\u001b[1;33m=\u001b[0m\u001b[1;33m[\u001b[0m\u001b[1;34m'acc'\u001b[0m\u001b[1;33m]\u001b[0m\u001b[1;33m)\u001b[0m\u001b[1;33m\u001b[0m\u001b[1;33m\u001b[0m\u001b[0m\n\u001b[1;32m---> 32\u001b[1;33m \u001b[0mmodel\u001b[0m\u001b[1;33m.\u001b[0m\u001b[0mfit\u001b[0m\u001b[1;33m(\u001b[0m\u001b[0minX\u001b[0m\u001b[1;33m,\u001b[0m \u001b[0moutY\u001b[0m\u001b[1;33m,\u001b[0m \u001b[0mepochs\u001b[0m\u001b[1;33m=\u001b[0m\u001b[1;36m5\u001b[0m\u001b[1;33m,\u001b[0m \u001b[0mbatch_size\u001b[0m\u001b[1;33m=\u001b[0m\u001b[1;36m10\u001b[0m\u001b[1;33m)\u001b[0m\u001b[1;33m\u001b[0m\u001b[1;33m\u001b[0m\u001b[0m\n\u001b[0m\u001b[0;32m     33\u001b[0m \u001b[0m_\u001b[0m\u001b[1;33m,\u001b[0m \u001b[0maccuracy\u001b[0m \u001b[1;33m=\u001b[0m \u001b[0mmodel\u001b[0m\u001b[1;33m.\u001b[0m\u001b[0mevaluate\u001b[0m\u001b[1;33m(\u001b[0m\u001b[0minX\u001b[0m\u001b[1;33m,\u001b[0m \u001b[0moutY\u001b[0m\u001b[1;33m,\u001b[0m \u001b[0mverbose\u001b[0m\u001b[1;33m=\u001b[0m\u001b[1;36m0\u001b[0m\u001b[1;33m)\u001b[0m\u001b[1;33m\u001b[0m\u001b[1;33m\u001b[0m\u001b[0m\n\u001b[0;32m     34\u001b[0m \u001b[0mprint\u001b[0m\u001b[1;33m(\u001b[0m\u001b[0maccuracy\u001b[0m\u001b[1;33m)\u001b[0m\u001b[1;33m\u001b[0m\u001b[1;33m\u001b[0m\u001b[0m\n",
      "\u001b[1;32m~\\Anaconda3\\lib\\site-packages\\keras\\engine\\training.py\u001b[0m in \u001b[0;36mfit\u001b[1;34m(self, x, y, batch_size, epochs, verbose, callbacks, validation_split, validation_data, shuffle, class_weight, sample_weight, initial_epoch, steps_per_epoch, validation_steps, validation_freq, max_queue_size, workers, use_multiprocessing, **kwargs)\u001b[0m\n\u001b[0;32m   1237\u001b[0m                                         \u001b[0msteps_per_epoch\u001b[0m\u001b[1;33m=\u001b[0m\u001b[0msteps_per_epoch\u001b[0m\u001b[1;33m,\u001b[0m\u001b[1;33m\u001b[0m\u001b[1;33m\u001b[0m\u001b[0m\n\u001b[0;32m   1238\u001b[0m                                         \u001b[0mvalidation_steps\u001b[0m\u001b[1;33m=\u001b[0m\u001b[0mvalidation_steps\u001b[0m\u001b[1;33m,\u001b[0m\u001b[1;33m\u001b[0m\u001b[1;33m\u001b[0m\u001b[0m\n\u001b[1;32m-> 1239\u001b[1;33m                                         validation_freq=validation_freq)\n\u001b[0m\u001b[0;32m   1240\u001b[0m \u001b[1;33m\u001b[0m\u001b[0m\n\u001b[0;32m   1241\u001b[0m     def evaluate(self,\n",
      "\u001b[1;32m~\\Anaconda3\\lib\\site-packages\\keras\\engine\\training_arrays.py\u001b[0m in \u001b[0;36mfit_loop\u001b[1;34m(model, fit_function, fit_inputs, out_labels, batch_size, epochs, verbose, callbacks, val_function, val_inputs, shuffle, initial_epoch, steps_per_epoch, validation_steps, validation_freq)\u001b[0m\n\u001b[0;32m    194\u001b[0m                     \u001b[0mins_batch\u001b[0m\u001b[1;33m[\u001b[0m\u001b[0mi\u001b[0m\u001b[1;33m]\u001b[0m \u001b[1;33m=\u001b[0m \u001b[0mins_batch\u001b[0m\u001b[1;33m[\u001b[0m\u001b[0mi\u001b[0m\u001b[1;33m]\u001b[0m\u001b[1;33m.\u001b[0m\u001b[0mtoarray\u001b[0m\u001b[1;33m(\u001b[0m\u001b[1;33m)\u001b[0m\u001b[1;33m\u001b[0m\u001b[1;33m\u001b[0m\u001b[0m\n\u001b[0;32m    195\u001b[0m \u001b[1;33m\u001b[0m\u001b[0m\n\u001b[1;32m--> 196\u001b[1;33m                 \u001b[0mouts\u001b[0m \u001b[1;33m=\u001b[0m \u001b[0mfit_function\u001b[0m\u001b[1;33m(\u001b[0m\u001b[0mins_batch\u001b[0m\u001b[1;33m)\u001b[0m\u001b[1;33m\u001b[0m\u001b[1;33m\u001b[0m\u001b[0m\n\u001b[0m\u001b[0;32m    197\u001b[0m                 \u001b[0mouts\u001b[0m \u001b[1;33m=\u001b[0m \u001b[0mto_list\u001b[0m\u001b[1;33m(\u001b[0m\u001b[0mouts\u001b[0m\u001b[1;33m)\u001b[0m\u001b[1;33m\u001b[0m\u001b[1;33m\u001b[0m\u001b[0m\n\u001b[0;32m    198\u001b[0m                 \u001b[1;32mfor\u001b[0m \u001b[0ml\u001b[0m\u001b[1;33m,\u001b[0m \u001b[0mo\u001b[0m \u001b[1;32min\u001b[0m \u001b[0mzip\u001b[0m\u001b[1;33m(\u001b[0m\u001b[0mout_labels\u001b[0m\u001b[1;33m,\u001b[0m \u001b[0mouts\u001b[0m\u001b[1;33m)\u001b[0m\u001b[1;33m:\u001b[0m\u001b[1;33m\u001b[0m\u001b[1;33m\u001b[0m\u001b[0m\n",
      "\u001b[1;32m~\\Anaconda3\\lib\\site-packages\\tensorflow\\python\\keras\\backend.py\u001b[0m in \u001b[0;36m__call__\u001b[1;34m(self, inputs)\u001b[0m\n\u001b[0;32m   3290\u001b[0m \u001b[1;33m\u001b[0m\u001b[0m\n\u001b[0;32m   3291\u001b[0m     fetched = self._callable_fn(*array_vals,\n\u001b[1;32m-> 3292\u001b[1;33m                                 run_metadata=self.run_metadata)\n\u001b[0m\u001b[0;32m   3293\u001b[0m     \u001b[0mself\u001b[0m\u001b[1;33m.\u001b[0m\u001b[0m_call_fetch_callbacks\u001b[0m\u001b[1;33m(\u001b[0m\u001b[0mfetched\u001b[0m\u001b[1;33m[\u001b[0m\u001b[1;33m-\u001b[0m\u001b[0mlen\u001b[0m\u001b[1;33m(\u001b[0m\u001b[0mself\u001b[0m\u001b[1;33m.\u001b[0m\u001b[0m_fetches\u001b[0m\u001b[1;33m)\u001b[0m\u001b[1;33m:\u001b[0m\u001b[1;33m]\u001b[0m\u001b[1;33m)\u001b[0m\u001b[1;33m\u001b[0m\u001b[1;33m\u001b[0m\u001b[0m\n\u001b[0;32m   3294\u001b[0m     output_structure = nest.pack_sequence_as(\n",
      "\u001b[1;32m~\\Anaconda3\\lib\\site-packages\\tensorflow\\python\\client\\session.py\u001b[0m in \u001b[0;36m__call__\u001b[1;34m(self, *args, **kwargs)\u001b[0m\n\u001b[0;32m   1456\u001b[0m         ret = tf_session.TF_SessionRunCallable(self._session._session,\n\u001b[0;32m   1457\u001b[0m                                                \u001b[0mself\u001b[0m\u001b[1;33m.\u001b[0m\u001b[0m_handle\u001b[0m\u001b[1;33m,\u001b[0m \u001b[0margs\u001b[0m\u001b[1;33m,\u001b[0m\u001b[1;33m\u001b[0m\u001b[1;33m\u001b[0m\u001b[0m\n\u001b[1;32m-> 1458\u001b[1;33m                                                run_metadata_ptr)\n\u001b[0m\u001b[0;32m   1459\u001b[0m         \u001b[1;32mif\u001b[0m \u001b[0mrun_metadata\u001b[0m\u001b[1;33m:\u001b[0m\u001b[1;33m\u001b[0m\u001b[1;33m\u001b[0m\u001b[0m\n\u001b[0;32m   1460\u001b[0m           \u001b[0mproto_data\u001b[0m \u001b[1;33m=\u001b[0m \u001b[0mtf_session\u001b[0m\u001b[1;33m.\u001b[0m\u001b[0mTF_GetBuffer\u001b[0m\u001b[1;33m(\u001b[0m\u001b[0mrun_metadata_ptr\u001b[0m\u001b[1;33m)\u001b[0m\u001b[1;33m\u001b[0m\u001b[1;33m\u001b[0m\u001b[0m\n",
      "\u001b[1;31mInvalidArgumentError\u001b[0m: Received a label value of 5 which is outside the valid range of [0, 1).  Label values: 5 5 5 5 5 5 5 5 5 5\n\t [[{{node loss_5/dense_24_loss/sparse_categorical_crossentropy/SparseSoftmaxCrossEntropyWithLogits/SparseSoftmaxCrossEntropyWithLogits}}]]"
     ]
    }
   ],
   "source": [
    "class_names=['left', 'right' 'up', 'down', 'resting', 'swirling', 'drop', 'take']\n",
    "col_names=[\"type\", \"1sen1\", \"2sen1\", \"3sen1\", \"4sen1\",  \"1Sen2\", \"2sen2\", \"3sen2\", \"4sen2\",  \"1sen3\", \"2sen3\", \"3sen3\", \"4sen3\",\n",
    "         \"1sen4\", \"2sen4\", \"3sen4\", \"4sen4\",  \"1Sen5\", \"2sen5\", \"3sen5\", \"4sen5\",  \"1sen6\", \"2sen6\", \"3sen6\", \"4sen6\",\n",
    "         \"1sen7\", \"2sen7\", \"3sen7\", \"4sen7\",  \"1Sen8\", \"2sen8\", \"3sen8\", \"4sen8\",  \"1Sen9\", \"2sen9\", \"3sen9\", \"4sen9\",\n",
    "         \"1sen10\", \"2sen10\", \"3sen10\", \"4sen10\",  \"1sen11\", \"2sen11\", \"3sen11\", \"4sen11\",  \"1sen12\", \"2sen12\", \"3sen12\", \"4sen12\",\n",
    "         \"1sen13\", \"2sen13\", \"3sen13\", \"4sen13\",  \"1sen14\", \"2sen14\", \"3sen14\", \"4sen14\",  \"1sen15\", \"2sen15\", \"3sen15\", \"4sen15\",\n",
    "         \"1sen16\", \"2sen16\", \"3sen16\", \"4sen16\",  \"1sen17\", \"2sen17\", \"3sen17\", \"4sen17\",  \"1sen18\", \"2sen18\", \"3sen18\", \"4sen18\",\n",
    "         \"1sen19\", \"2sen19\", \"3sen19\", \"4sen19\",  \"1sen20\", \"2sen20\", \"3sen20\", \"4sen20\"]\n",
    "#Loading the dataset\n",
    "filename=\"data5.csv\"\n",
    "df=pd.read_csv(filename)\n",
    "dataset=df.values\n",
    "#splitting the dataset into input features (x) and features we wish to predict(y)\n",
    "inX=dataset[:,1:81]\n",
    "outY=dataset[:,0:1]\n",
    "#preprocessing the data\n",
    "\n",
    "X_train, X_val_and_test, Y_train, Y_val_and_test =train_test_split(inX, outY, test_size=0.3)\n",
    "\n",
    "X_val, X_test, Y_val, Y_test = train_test_split(X_val_and_test, Y_val_and_test, test_size=0.5)\n",
    "\n",
    "print(inX)\n",
    "print(outY)\n",
    "\n",
    "#Defining the model\n",
    "model = Sequential()\n",
    "model.add(Dense(32, activation=\"sigmoid\", input_dim=80))\n",
    "model.add(Dense(32, activation=\"sigmoid\"))\n",
    "model.add(Dense(32, activation=\"sigmoid\"))\n",
    "model.add(Dense(6, activation=\"softmax\"))\n",
    "model.compile(optimizer='sgd', loss='sparse_categorical_crossentropy', metrics=['acc'])\n",
    "model.fit(inX, outY, epochs=5, batch_size=10)\n",
    "_, accuracy = model.evaluate(inX, outY, verbose=0)\n",
    "print(accuracy)\n",
    "print('Accuracy: %.2f' % (accuracy*100))\n",
    "\n",
    "# save the model to disk\n",
    "filename = 'finalized_model.sav'\n",
    "pickle.dump(model, open(filename, 'wb'))"
   ]
  },
  {
   "cell_type": "code",
   "execution_count": 3,
   "metadata": {},
   "outputs": [
    {
     "name": "stdout",
     "output_type": "stream",
     "text": [
      "[8.14, 8.23, 8.25, 8.28, 8.02, 8.23, 8.33, 8.38, 8.14, 8.74, 8.35, 8.28, 8.02, 8.23, 8.23, 8.28, 8.14, 8.3, 8.33, 8.4, 8.02, 8.25, 8.25, 8.28, 8.02, 8.3, 8.33, 8.38, 8.14, 8.35, 8.35, 8.28, 8.04, 8.23, 8.25, 8.28, 8.14, 8.35, 8.33, 8.38, 8.04, 8.23, 8.23, 8.28, 8.04, 8.33, 8.35, 8.38, 8.13, 8.33, 8.28, 8.28, 8.04, 8.21, 8.23, 8.28, 8.14, 8.33, 8.35, 8.38, 8.04, 8.23, 8.25, 8.28, 8.02, 8.33, 8.35, 8.4, 8.13, 8.33, 8.23, 8.28, 8.04, 8.23, 8.23, 8.33, 8.14, 8.33, 8.33, 8.38] => 1 (expected 5)\n",
      "[8.04, 8.23, 8.25, 8.28, 8.04, 8.33, 8.33, 8.38, 8.14, 8.33, 8.25, 8.28, 8.02, 8.64, 8.25, 8.38, 8.13, 8.33, 8.35, 8.38, 8.02, 8.23, 8.25, 8.28, 8.13, 8.35, 8.33, 8.38, 8.13, 8.3, 8.23, 8.28, 8.02, 8.23, 8.25, 8.38, 8.13, 8.33, 8.33, 8.38, 8.04, 8.25, 8.25, 8.28, 8.13, 8.76, 8.35, 8.38, 8.13, 8.23, 8.23, 8.28, 8.02, 8.23, 8.33, 8.4, 8.13, 8.33, 8.35, 8.3, 8.02, 8.23, 8.23, 8.3, 8.14, 8.33, 8.35, 8.38, 8.13, 8.23, 8.25, 8.28, 8.02, 8.23, 8.33, 8.4, 8.14, 8.33, 8.35, 8.28] => 1 (expected 5)\n",
      "[8.04, 8.23, 8.25, 8.28, 8.14, 8.35, 8.35, 8.38, 8.04, 8.64, 8.25, 8.3, 8.04, 8.33, 8.33, 8.38, 8.14, 8.33, 8.25, 8.28, 8.04, 8.23, 8.23, 8.4, 8.14, 8.33, 8.33, 8.38, 8.02, 8.23, 8.25, 8.28, 8.04, 8.33, 8.33, 8.38, 8.14, 8.33, 8.25, 8.28, 8.02, 8.23, 8.23, 8.38, 8.13, 8.35, 8.33, 8.4, 8.02, 8.23, 8.23, 8.28, 8.04, 8.74, 8.33, 8.38, 8.14, 8.33, 8.23, 8.28, 8.04, 8.23, 8.23, 8.38, 8.13, 8.33, 8.33, 8.38, 8.04, 8.23, 8.23, 8.28, 8.13, 8.33, 8.33, 8.38, 8.13, 8.33, 8.25, 8.28] => 1 (expected 5)\n",
      "[8.02, 8.23, 8.65, 8.38, 8.14, 8.33, 8.35, 8.38, 8.04, 8.23, 8.23, 8.28, 8.14, 8.33, 8.35, 8.4, 8.14, 8.23, 8.25, 8.28, 8.04, 8.23, 8.33, 8.38, 8.14, 8.33, 8.35, 8.28, 8.02, 8.25, 8.25, 8.28, 8.14, 8.35, 8.33, 8.38, 8.13, 8.23, 8.25, 8.28, 8.02, 8.23, 8.33, 8.38, 8.14, 8.33, 8.35, 8.28, 8.02, 8.23, 8.25, 8.3, 8.13, 8.35, 8.35, 8.4, 8.02, 8.23, 8.23, 8.3, 8.02, 8.33, 8.35, 8.4, 8.13, 8.35, 8.35, 8.3, 8.04, 8.23, 8.23, 8.28, 8.14, 8.3, 8.33, 8.4, 8.02, 8.64, 8.25, 8.3] => 1 (expected 5)\n",
      "[8.04, 8.33, 8.35, 8.38, 8.14, 8.35, 8.25, 8.28, 8.04, 8.64, 8.23, 8.38, 8.14, 8.35, 8.35, 8.38, 8.04, 8.23, 8.25, 8.28, 8.14, 8.35, 8.35, 8.38, 8.13, 8.33, 8.23, 8.28, 8.02, 8.23, 8.23, 8.4, 8.13, 8.33, 8.33, 8.38, 8.04, 8.23, 8.25, 8.28, 8.14, 8.33, 8.33, 8.4, 8.14, 8.33, 8.23, 8.28, 8.02, 8.23, 8.23, 8.38, 8.14, 8.33, 8.35, 8.4, 8.02, 8.23, 8.23, 8.28, 8.13, 8.33, 8.35, 8.38, 8.14, 8.33, 8.23, 8.28, 8.04, 8.23, 8.25, 8.38, 8.14, 8.3, 8.35, 8.4, 8.02, 8.19, 8.25, 8.28] => 1 (expected 5)\n"
     ]
    }
   ],
   "source": [
    "predictions = model.predict_classes(inX)\n",
    "rounded = [round(x[0]) for x in predictions]\n",
    "for i in range(5):\n",
    "    print('%s => %d (expected %d)' % (inX[i].tolist(), predictions[i], outY[i]))"
   ]
  },
  {
   "cell_type": "code",
   "execution_count": null,
   "metadata": {},
   "outputs": [],
   "source": []
  },
  {
   "cell_type": "code",
   "execution_count": null,
   "metadata": {},
   "outputs": [],
   "source": []
  },
  {
   "cell_type": "code",
   "execution_count": null,
   "metadata": {},
   "outputs": [],
   "source": []
  }
 ],
 "metadata": {
  "kernelspec": {
   "display_name": "Python 3",
   "language": "python",
   "name": "python3"
  },
  "language_info": {
   "codemirror_mode": {
    "name": "ipython",
    "version": 3
   },
   "file_extension": ".py",
   "mimetype": "text/x-python",
   "name": "python",
   "nbconvert_exporter": "python",
   "pygments_lexer": "ipython3",
   "version": "3.7.3"
  }
 },
 "nbformat": 4,
 "nbformat_minor": 2
}

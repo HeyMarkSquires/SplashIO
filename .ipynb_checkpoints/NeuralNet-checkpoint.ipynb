{
 "cells": [
  {
   "cell_type": "code",
   "execution_count": 1,
   "metadata": {},
   "outputs": [
    {
     "name": "stderr",
     "output_type": "stream",
     "text": [
      "Using TensorFlow backend.\n"
     ]
    }
   ],
   "source": [
    "from __future__ import absolute_import, division, print_function, unicode_literals\n",
    "import serial\n",
    "from time import sleep\n",
    "import csv\n",
    "import pandas as pd\n",
    "import functools\n",
    "from sklearn import preprocessing\n",
    "from sklearn.model_selection import train_test_split\n",
    "from keras.models import Sequential\n",
    "from keras.layers import Dense\n",
    "import matplotlib.pyplot as plt\n",
    "import numpy as np\n",
    "import pickle"
   ]
  },
  {
   "cell_type": "code",
   "execution_count": 105,
   "metadata": {},
   "outputs": [
    {
     "name": "stderr",
     "output_type": "stream",
     "text": [
      "C:\\Users\\markj\\Anaconda3\\lib\\site-packages\\sklearn\\preprocessing\\_encoders.py:415: FutureWarning: The handling of integer data will change in version 0.22. Currently, the categories are determined based on the range [0, max(values)], while in the future they will be determined based on the unique values.\n",
      "If you want the future behaviour and silence this warning, you can specify \"categories='auto'\".\n",
      "In case you used a LabelEncoder before this OneHotEncoder to convert the categories to integers, then you can now use the OneHotEncoder directly.\n",
      "  warnings.warn(msg, FutureWarning)\n"
     ]
    }
   ],
   "source": [
    "#Loading the dataset\n",
    "filename=\"data.csv\"\n",
    "dataset=pd.read_csv(filename)\n",
    "#splitting the dataset into input features (x) and features we wish to predict(y)\n",
    "inX=dataset.iloc[:,1:81].values\n",
    "outY=dataset.iloc[:,0:1].values\n",
    "\n",
    "#preprocessing the data\n",
    "\n",
    "from sklearn.preprocessing import StandardScaler\n",
    "sc = StandardScaler()\n",
    "X = sc.fit_transform(inX)\n",
    "\n",
    "from sklearn.preprocessing import OneHotEncoder\n",
    "ohe = OneHotEncoder()\n",
    "y = ohe.fit_transform(outY).toarray()\n",
    "from sklearn.model_selection import train_test_split\n",
    "X_train,X_test,y_train,y_test = train_test_split(X,y,test_size = 0.3)"
   ]
  },
  {
   "cell_type": "code",
   "execution_count": 110,
   "metadata": {},
   "outputs": [],
   "source": [
    "#Defining the model\n",
    "model = Sequential()\n",
    "model.add(Dense(16, activation=\"relu\", input_dim=80))\n",
    "model.add(Dense(13, activation=\"relu\"))\n",
    "model.add(Dense(10, activation=\"relu\"))\n",
    "model.add(Dense(5, activation=\"softmax\"))\n",
    "\n",
    "# save the model to disk\n",
    "#filename = 'finalized_model.sav'\n",
    "#pickle.dump(model, open(filename, 'wb'))"
   ]
  },
  {
   "cell_type": "code",
   "execution_count": 111,
   "metadata": {},
   "outputs": [
    {
     "name": "stdout",
     "output_type": "stream",
     "text": [
      "Epoch 1/20\n",
      "5705/5705 [==============================] - 1s 94us/step - loss: 1.2432 - accuracy: 0.5604\n",
      "Epoch 2/20\n",
      "5705/5705 [==============================] - 0s 23us/step - loss: 0.7760 - accuracy: 0.7797\n",
      "Epoch 3/20\n",
      "5705/5705 [==============================] - 0s 23us/step - loss: 0.6175 - accuracy: 0.8203\n",
      "Epoch 4/20\n",
      "5705/5705 [==============================] - 0s 22us/step - loss: 0.5148 - accuracy: 0.8540\n",
      "Epoch 5/20\n",
      "5705/5705 [==============================] - 0s 23us/step - loss: 0.4396 - accuracy: 0.8717\n",
      "Epoch 6/20\n",
      "5705/5705 [==============================] - 0s 22us/step - loss: 0.3859 - accuracy: 0.8896\n",
      "Epoch 7/20\n",
      "5705/5705 [==============================] - 0s 24us/step - loss: 0.3456 - accuracy: 0.9017\n",
      "Epoch 8/20\n",
      "5705/5705 [==============================] - 0s 22us/step - loss: 0.3130 - accuracy: 0.9087\n",
      "Epoch 9/20\n",
      "5705/5705 [==============================] - 0s 23us/step - loss: 0.2873 - accuracy: 0.9187\n",
      "Epoch 10/20\n",
      "5705/5705 [==============================] - 0s 22us/step - loss: 0.2694 - accuracy: 0.9232\n",
      "Epoch 11/20\n",
      "5705/5705 [==============================] - 0s 25us/step - loss: 0.2501 - accuracy: 0.9290\n",
      "Epoch 12/20\n",
      "5705/5705 [==============================] - 0s 22us/step - loss: 0.2358 - accuracy: 0.9322\n",
      "Epoch 13/20\n",
      "5705/5705 [==============================] - 0s 23us/step - loss: 0.2253 - accuracy: 0.9334\n",
      "Epoch 14/20\n",
      "5705/5705 [==============================] - 0s 27us/step - loss: 0.2137 - accuracy: 0.9371\n",
      "Epoch 15/20\n",
      "5705/5705 [==============================] - 0s 33us/step - loss: 0.2050 - accuracy: 0.9395\n",
      "Epoch 16/20\n",
      "5705/5705 [==============================] - 0s 31us/step - loss: 0.1955 - accuracy: 0.9427\n",
      "Epoch 17/20\n",
      "5705/5705 [==============================] - 0s 22us/step - loss: 0.1884 - accuracy: 0.9437\n",
      "Epoch 18/20\n",
      "5705/5705 [==============================] - 0s 22us/step - loss: 0.1808 - accuracy: 0.9481\n",
      "Epoch 19/20\n",
      "5705/5705 [==============================] - 0s 22us/step - loss: 0.1752 - accuracy: 0.9495\n",
      "Epoch 20/20\n",
      "5705/5705 [==============================] - 0s 22us/step - loss: 0.1698 - accuracy: 0.9506\n"
     ]
    }
   ],
   "source": [
    "model.compile(loss='categorical_crossentropy', optimizer='adam', metrics=['accuracy'])\n",
    "history = model.fit(X_train, y_train, epochs=20, batch_size=64)\n",
    "\n",
    "filename = 'finalized_model.sav'\n",
    "pickle.dump(model, open(filename, 'wb'))"
   ]
  },
  {
   "cell_type": "code",
   "execution_count": 121,
   "metadata": {},
   "outputs": [
    {
     "name": "stdout",
     "output_type": "stream",
     "text": [
      "Accuracy is: 92.5562372188139\n",
      "(2445, 80)\n",
      "(2395, 80)\n"
     ]
    }
   ],
   "source": [
    "y_pred = model.predict(X_test)\n",
    "pred = list()\n",
    "for i in range(len(y_pred)):\n",
    "    pred.append(np.argmax(y_pred[i]))\n",
    "#Converting one hot encoded test label to label\n",
    "test = list()\n",
    "for i in range(len(y_test)):\n",
    "    test.append(np.argmax(y_test[i]))\n",
    "from sklearn.metrics import accuracy_score\n",
    "a = accuracy_score(pred,test)\n",
    "print('Accuracy is:', a*100)\n",
    "\n",
    "print(X_test.shape)\n",
    "print((X_test[50:]).shape)\n",
    "y_pred = model.predict(X_test[50:])"
   ]
  },
  {
   "cell_type": "code",
   "execution_count": null,
   "metadata": {},
   "outputs": [],
   "source": []
  }
 ],
 "metadata": {
  "kernelspec": {
   "display_name": "Python 3",
   "language": "python",
   "name": "python3"
  },
  "language_info": {
   "codemirror_mode": {
    "name": "ipython",
    "version": 3
   },
   "file_extension": ".py",
   "mimetype": "text/x-python",
   "name": "python",
   "nbconvert_exporter": "python",
   "pygments_lexer": "ipython3",
   "version": "3.7.3"
  }
 },
 "nbformat": 4,
 "nbformat_minor": 2
}
